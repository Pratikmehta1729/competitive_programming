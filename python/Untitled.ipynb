{
 "cells": [
  {
   "cell_type": "code",
   "execution_count": 5,
   "metadata": {},
   "outputs": [
    {
     "name": "stdout",
     "output_type": "stream",
     "text": [
      "5\n",
      "ok\n"
     ]
    }
   ],
   "source": [
    "print(5)\n",
    "print(\"ok\")"
   ]
  },
  {
   "cell_type": "code",
   "execution_count": 3,
   "metadata": {},
   "outputs": [
    {
     "name": "stdout",
     "output_type": "stream",
     "text": [
      "1\n",
      "9\n",
      "17\n",
      "25\n",
      "33\n",
      "41\n",
      "49\n",
      "57\n",
      "65\n",
      "73\n",
      "81\n",
      "89\n",
      "97\n",
      "105\n",
      "113\n",
      "121\n",
      "129\n",
      "137\n",
      "145\n",
      "153\n",
      "161\n",
      "169\n",
      "177\n",
      "185\n",
      "193\n"
     ]
    }
   ],
   "source": [
    "for i in range(1,200,8):\n",
    "    print(i)"
   ]
  },
  {
   "cell_type": "code",
   "execution_count": null,
   "metadata": {},
   "outputs": [],
   "source": []
  }
 ],
 "metadata": {
  "kernelspec": {
   "display_name": "Python 3",
   "language": "python",
   "name": "python3"
  },
  "language_info": {
   "codemirror_mode": {
    "name": "ipython",
    "version": 3
   },
   "file_extension": ".py",
   "mimetype": "text/x-python",
   "name": "python",
   "nbconvert_exporter": "python",
   "pygments_lexer": "ipython3",
   "version": "3.5.2"
  }
 },
 "nbformat": 4,
 "nbformat_minor": 4
}
